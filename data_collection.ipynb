{
 "cells": [
  {
   "cell_type": "code",
   "execution_count": 1,
   "metadata": {},
   "outputs": [],
   "source": [
    "from selenium import webdriver\n",
    "from selenium.webdriver.common.by import By\n",
    "from selenium.webdriver.support.ui import WebDriverWait\n",
    "from selenium.webdriver.support import expected_conditions as EC\n",
    "from selenium.webdriver.chrome.service import Service\n",
    "from webdriver_manager.chrome import ChromeDriverManager\n",
    "\n",
    "from bs4 import BeautifulSoup\n",
    "import requests\n",
    "from parsel import Selector\n",
    "import re\n",
    "import polars as pl\n",
    "import time\n",
    "import os"
   ]
  },
  {
   "cell_type": "code",
   "execution_count": 2,
   "metadata": {},
   "outputs": [],
   "source": [
    "def get_names(selector) -> list[str]:\n",
    "    return selector.xpath(\n",
    "        '//*[contains(concat( \" \", @class, \" \" ), concat( \" \", \"PositionCard_name__iERDX\", \" \" ))]'\n",
    "    ).re(\n",
    "        r'<span class=\"PositionCard_name__iERDX\">(.*?)</span>'\n",
    "    )  # .getall()\n",
    "\n",
    "\n",
    "def get_titles(selector) -> list[str]:\n",
    "    return [\n",
    "        i\n",
    "        for i in selector.xpath(\n",
    "            '//*[contains(concat( \" \", @class, \" \" ), concat( \" \", \"PositionCard_role__XNUly\", \" \" ))]'\n",
    "        ).re(r'<div class=\"PositionCard_role__XNUly\">(.*?)</div>')\n",
    "        if \"Board Member\" not in i\n",
    "    ]\n",
    "\n",
    "\n",
    "def get_image_results(selector) -> dict[str, str]:\n",
    "    result = pl.DataFrame(\n",
    "        {\n",
    "            \"image_results\": selector.xpath(\n",
    "                '//*[contains(concat( \" \", @class, \" \" ), concat( \" \", \"hLdhge\", \" \" ))]'\n",
    "            ).getall()\n",
    "        }\n",
    "    ).with_columns(\n",
    "        pl.col(\"image_results\").str.extract(r'src=\"([^\"]*)\"').alias(\"url\"),\n",
    "        pl.col(\"image_results\")\n",
    "        .str.extract(r'alt=\"([^\"]*)\"')\n",
    "        .str.split(\"'s profile picture\")\n",
    "        .list.first()\n",
    "        .alias(\"names\"),\n",
    "    )\n",
    "\n",
    "    return dict(zip(result[\"names\"], result[\"url\"]))\n",
    "\n",
    "\n",
    "def get_direct_superior_name(selector) -> str:\n",
    "    return selector.xpath(\n",
    "        '//*[contains(concat( \" \", @class, \" \" ), concat( \" \", \"dVvVox\", \" \" ))]'\n",
    "    ).re(r\">(.*?)<\")[0]"
   ]
  },
  {
   "cell_type": "code",
   "execution_count": 3,
   "metadata": {},
   "outputs": [],
   "source": [
    "def get_text_selector(text: str):\n",
    "    return Selector(text)"
   ]
  },
  {
   "cell_type": "code",
   "execution_count": 4,
   "metadata": {},
   "outputs": [],
   "source": [
    "def collect_dataset_text(text: str, chart_status: int) -> tuple[pl.DataFrame, str]:\n",
    "    selector = get_text_selector(text)\n",
    "    direct_superior = get_direct_superior_name(selector)\n",
    "    return (\n",
    "        pl.DataFrame(\n",
    "            {\"name\": get_names(selector), \"title\": get_titles(selector)}\n",
    "        ).with_columns(\n",
    "            pl.col(\"name\")\n",
    "            .replace_strict(get_image_results(selector), default=\"no_match\")\n",
    "            .alias(\"image_src\"),\n",
    "            pl.lit(direct_superior).alias(\"reports_to\"),\n",
    "            pl.lit(chart_status).alias(\"chart_status\"),\n",
    "        ),\n",
    "        direct_superior,\n",
    "    )"
   ]
  },
  {
   "cell_type": "code",
   "execution_count": 5,
   "metadata": {},
   "outputs": [],
   "source": [
    "def save_collected_data(data: pl.DataFrame, chart_status: int, path: str):\n",
    "    if chart_status > 1:\n",
    "        data.to_pandas().to_csv(path, header=False, index=False, mode=\"a+\")\n",
    "    else:\n",
    "        data.to_pandas().to_csv(path, header=True, index=False, mode=\"a+\")"
   ]
  },
  {
   "cell_type": "code",
   "execution_count": 6,
   "metadata": {},
   "outputs": [],
   "source": [
    "def run_data_collection(chart_status: int, path: str):\n",
    "    text = str(input(\"Input html element: \"))\n",
    "    data, direct_superior = collect_dataset_text(text, chart_status)\n",
    "    save_collected_data(data, chart_status, path)\n",
    "    print(\n",
    "        f\"Success - Data collected for -> chart status: {chart_status} with superior: {direct_superior}\"\n",
    "    )"
   ]
  },
  {
   "cell_type": "code",
   "execution_count": 269,
   "metadata": {},
   "outputs": [
    {
     "name": "stdout",
     "output_type": "stream",
     "text": [
      "Success - Data collected for -> chart status: 5 with superior: Lily Peng\n"
     ]
    }
   ],
   "source": [
    "run_data_collection(\n",
    "    chart_status=5,\n",
    "    path=\"C:/Users/gilnr/OneDrive/Ambiente de Trabalho/Learning/Work/Companies/org_chart_data_apple.csv\",\n",
    ")"
   ]
  },
  {
   "cell_type": "markdown",
   "metadata": {},
   "source": [
    "## Automate Data Collection"
   ]
  },
  {
   "cell_type": "code",
   "execution_count": null,
   "metadata": {},
   "outputs": [],
   "source": [
    "class Browser:\n",
    "    def __init__(self):\n",
    "        self.browser = webdriver.Chrome(service=ChromeDriverManager().install())\n",
    "\n",
    "    def open_page(self, url: str):\n",
    "        self.browser.get(url)\n",
    "\n",
    "    def close_browser(self):\n",
    "        self.browser.close()\n",
    "\n",
    "    def add_input(self, by: By, value: str, text: str):\n",
    "        field = self.browser.find_element(by=by, value=value)\n",
    "        field.send_keys(text)\n",
    "        time.sleep(1)\n",
    "\n",
    "    def click_button(self, by: By, value: str):\n",
    "        button = self.browser.find_element(by=by, value=value)\n",
    "        button.click()\n",
    "        time.sleep(1)"
   ]
  },
  {
   "cell_type": "code",
   "execution_count": null,
   "metadata": {},
   "outputs": [],
   "source": [
    "def login_org_webside(\n",
    "    browser: Browser,\n",
    "    url: str,\n",
    "):\n",
    "    browser.open_page(url)\n",
    "    time.sleep(3)\n",
    "\n",
    "    browser.add_input(by=By.NAME, value=\"email\", text=os.getenv(\"EMAIL\"))\n",
    "    browser.add_input(by=By.NAME, value=\"password\", text=os.getenv(\"PASSWORD\"))\n",
    "    browser.click_button(\n",
    "        by=By.CLASS_NAME, value=\"sc-d3ca6972-0 sc-2e5943b7-0 kEyLlR bQvdov\"\n",
    "    )"
   ]
  },
  {
   "cell_type": "code",
   "execution_count": null,
   "metadata": {},
   "outputs": [],
   "source": [
    "browser = Browser()\n",
    "login_org_webside(browser, \"https://theorg.com/login?next=/org/google\")"
   ]
  },
  {
   "cell_type": "code",
   "execution_count": null,
   "metadata": {},
   "outputs": [],
   "source": []
  }
 ],
 "metadata": {
  "kernelspec": {
   "display_name": "work-venv",
   "language": "python",
   "name": "python3"
  },
  "language_info": {
   "codemirror_mode": {
    "name": "ipython",
    "version": 3
   },
   "file_extension": ".py",
   "mimetype": "text/x-python",
   "name": "python",
   "nbconvert_exporter": "python",
   "pygments_lexer": "ipython3",
   "version": "3.9.1"
  }
 },
 "nbformat": 4,
 "nbformat_minor": 2
}
