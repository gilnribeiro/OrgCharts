{
 "cells": [
  {
   "cell_type": "code",
   "execution_count": 5,
   "metadata": {},
   "outputs": [],
   "source": [
    "import polars as pl"
   ]
  },
  {
   "cell_type": "code",
   "execution_count": 6,
   "metadata": {},
   "outputs": [],
   "source": [
    "def clean_data(company: str) -> pl.DataFrame:\n",
    "    df = pl.read_csv(f\"./companies/org_chart_data_{company}.csv\").with_columns(\n",
    "        pl.col(\"chart_status\").cast(pl.Int64)\n",
    "    )\n",
    "\n",
    "    initial_shape = df.shape\n",
    "\n",
    "    df = df.unique(subset=[\"name\", \"title\", \"reports_to\"]).with_columns(\n",
    "        pl.col(\"image_src\").replace(\"no_match\", None),\n",
    "        pl.lit(company).alias(\"company\"),\n",
    "    )\n",
    "\n",
    "    print(\n",
    "        f\"== {company.upper()} ==\\nDuplicates Removed: {initial_shape[0] - df.shape[0]}\\nTotal Records: {df.shape[0]}\\n\"\n",
    "    )\n",
    "    return df"
   ]
  },
  {
   "cell_type": "code",
   "execution_count": 13,
   "metadata": {},
   "outputs": [],
   "source": [
    "def transform_data(df: pl.DataFrame) -> pl.DataFrame:\n",
    "    name_to_manager = dict(zip(df[\"name\"], df[\"reports_to\"]))\n",
    "\n",
    "    def get_hierarchy_level(name):\n",
    "        level = 1\n",
    "        while name in name_to_manager and name_to_manager[name] != name:\n",
    "            name = name_to_manager[name]\n",
    "            level += 1\n",
    "        return level\n",
    "\n",
    "    df = df.with_columns(\n",
    "        pl.col(\"title\")\n",
    "        .str.replace_all(\"&amp;\", \"&\")\n",
    "        .str.replace_all('\"', \"\")\n",
    "        .alias(\"title\"),\n",
    "    ).with_columns(\n",
    "        pl.col(\n",
    "            [\"name\", \"title\", \"reports_to\"]\n",
    "        ).str.strip_chars(),  # .str.to_lowercase(),\n",
    "    )\n",
    "    return df.with_columns(\n",
    "        pl.col(\"name\")\n",
    "        .map_elements(get_hierarchy_level, return_dtype=pl.Int64)\n",
    "        .alias(\"org_status\"),\n",
    "    ).select([\"company\", \"name\", \"title\", \"reports_to\", \"org_status\", \"image_src\"])"
   ]
  },
  {
   "cell_type": "code",
   "execution_count": 14,
   "metadata": {},
   "outputs": [
    {
     "name": "stdout",
     "output_type": "stream",
     "text": [
      "== NIKE ==\n",
      "Duplicates Removed: 51\n",
      "Total Records: 573\n",
      "\n"
     ]
    }
   ],
   "source": [
    "df = clean_data(\"nike\")"
   ]
  },
  {
   "cell_type": "code",
   "execution_count": 15,
   "metadata": {},
   "outputs": [
    {
     "data": {
      "text/html": [
       "<div><style>\n",
       ".dataframe > thead > tr,\n",
       ".dataframe > tbody > tr {\n",
       "  text-align: right;\n",
       "  white-space: pre-wrap;\n",
       "}\n",
       "</style>\n",
       "<small>shape: (5, 6)</small><table border=\"1\" class=\"dataframe\"><thead><tr><th>name</th><th>title</th><th>image_src</th><th>reports_to</th><th>chart_status</th><th>company</th></tr><tr><td>str</td><td>str</td><td>str</td><td>str</td><td>i64</td><td>str</td></tr></thead><tbody><tr><td>&quot;Dina Stults&quot;</td><td>&quot;Public Policy &amp; Social Impact …</td><td>null</td><td>&quot;Rob Leinwand&quot;</td><td>3</td><td>&quot;nike&quot;</td></tr><tr><td>&quot;Shelby Cabral Smither&quot;</td><td>&quot;Human Resources Director&quot;</td><td>null</td><td>&quot;Bernard Bedon&quot;</td><td>8</td><td>&quot;nike&quot;</td></tr><tr><td>&quot;Liz Weldon&quot;</td><td>&quot;VP Global Womens Brand Managem…</td><td>&quot;https://cdn.theorg.com/67c22be…</td><td>&quot;Rami Jabaji&quot;</td><td>6</td><td>&quot;nike&quot;</td></tr><tr><td>&quot;Frank 🦄 Huffener&quot;</td><td>&quot;Senior Engineer&quot;</td><td>&quot;https://cdn.theorg.com/318eefe…</td><td>&quot;Jingzi Tan&quot;</td><td>6</td><td>&quot;nike&quot;</td></tr><tr><td>&quot;Gabby Cool&quot;</td><td>&quot;Storytelling Art Director, Glo…</td><td>&quot;https://cdn.theorg.com/86d2b9d…</td><td>&quot;Jesse P. Stollak&quot;</td><td>4</td><td>&quot;nike&quot;</td></tr></tbody></table></div>"
      ],
      "text/plain": [
       "shape: (5, 6)\n",
       "┌──────────────────┬──────────────────┬─────────────────┬─────────────────┬──────────────┬─────────┐\n",
       "│ name             ┆ title            ┆ image_src       ┆ reports_to      ┆ chart_status ┆ company │\n",
       "│ ---              ┆ ---              ┆ ---             ┆ ---             ┆ ---          ┆ ---     │\n",
       "│ str              ┆ str              ┆ str             ┆ str             ┆ i64          ┆ str     │\n",
       "╞══════════════════╪══════════════════╪═════════════════╪═════════════════╪══════════════╪═════════╡\n",
       "│ Dina Stults      ┆ Public Policy &  ┆ null            ┆ Rob Leinwand    ┆ 3            ┆ nike    │\n",
       "│                  ┆ Social Impact …  ┆                 ┆                 ┆              ┆         │\n",
       "│ Shelby Cabral    ┆ Human Resources  ┆ null            ┆ Bernard Bedon   ┆ 8            ┆ nike    │\n",
       "│ Smither          ┆ Director         ┆                 ┆                 ┆              ┆         │\n",
       "│ Liz Weldon       ┆ VP Global Womens ┆ https://cdn.the ┆ Rami Jabaji     ┆ 6            ┆ nike    │\n",
       "│                  ┆ Brand Managem…   ┆ org.com/67c22be ┆                 ┆              ┆         │\n",
       "│                  ┆                  ┆ …               ┆                 ┆              ┆         │\n",
       "│ Frank 🦄         ┆ Senior Engineer  ┆ https://cdn.the ┆ Jingzi Tan      ┆ 6            ┆ nike    │\n",
       "│ Huffener         ┆                  ┆ org.com/318eefe ┆                 ┆              ┆         │\n",
       "│                  ┆                  ┆ …               ┆                 ┆              ┆         │\n",
       "│ Gabby Cool       ┆ Storytelling Art ┆ https://cdn.the ┆ Jesse P.        ┆ 4            ┆ nike    │\n",
       "│                  ┆ Director, Glo…   ┆ org.com/86d2b9d ┆ Stollak         ┆              ┆         │\n",
       "│                  ┆                  ┆ …               ┆                 ┆              ┆         │\n",
       "└──────────────────┴──────────────────┴─────────────────┴─────────────────┴──────────────┴─────────┘"
      ]
     },
     "execution_count": 15,
     "metadata": {},
     "output_type": "execute_result"
    }
   ],
   "source": [
    "df.head()"
   ]
  },
  {
   "cell_type": "code",
   "execution_count": 16,
   "metadata": {},
   "outputs": [],
   "source": [
    "name_to_manager = dict(zip(df[\"name\"], df[\"reports_to\"]))\n",
    "\n",
    "\n",
    "def get_hierarchy_level(name):\n",
    "    level = 1\n",
    "    while name in name_to_manager and name_to_manager[name] != name:\n",
    "        name = name_to_manager[name]\n",
    "        level += 1\n",
    "    return level"
   ]
  },
  {
   "cell_type": "code",
   "execution_count": 17,
   "metadata": {},
   "outputs": [
    {
     "data": {
      "text/html": [
       "<div><style>\n",
       ".dataframe > thead > tr,\n",
       ".dataframe > tbody > tr {\n",
       "  text-align: right;\n",
       "  white-space: pre-wrap;\n",
       "}\n",
       "</style>\n",
       "<small>shape: (23, 8)</small><table border=\"1\" class=\"dataframe\"><thead><tr><th>name</th><th>title</th><th>image_src</th><th>reports_to</th><th>chart_status</th><th>company</th><th>chart_status_2</th><th>diff</th></tr><tr><td>str</td><td>str</td><td>str</td><td>str</td><td>i64</td><td>str</td><td>i64</td><td>bool</td></tr></thead><tbody><tr><td>&quot;Frank 🦄 Huffener&quot;</td><td>&quot;Senior Engineer&quot;</td><td>&quot;https://cdn.theorg.com/318eefe…</td><td>&quot;Jingzi Tan&quot;</td><td>6</td><td>&quot;nike&quot;</td><td>7</td><td>false</td></tr><tr><td>&quot;Prithvi Narina&quot;</td><td>&quot;Sr. Principal Product Manager&quot;</td><td>null</td><td>&quot;Aaron Cain&quot;</td><td>5</td><td>&quot;nike&quot;</td><td>4</td><td>false</td></tr><tr><td>&quot;Monika Folske&quot;</td><td>&quot;Senior Materials Developer&quot;</td><td>&quot;https://cdn.theorg.com/ac55bd8…</td><td>&quot;Gopi Parasurama&quot;</td><td>6</td><td>&quot;nike&quot;</td><td>7</td><td>false</td></tr><tr><td>&quot;Anna Schoborg&quot;</td><td>&quot;VP Global Nike Air Manufacturi…</td><td>&quot;https://cdn.theorg.com/9a5e99d…</td><td>&quot;Dr. Muge Erdirik Dogan&quot;</td><td>7</td><td>&quot;nike&quot;</td><td>6</td><td>false</td></tr><tr><td>&quot;Elliot Hill&quot;</td><td>&quot; &quot;President &amp; CEO&quot;&quot;</td><td>&quot;https://cdn.theorg.com/127901e…</td><td>null</td><td>1</td><td>&quot;nike&quot;</td><td>2</td><td>false</td></tr><tr><td>&hellip;</td><td>&hellip;</td><td>&hellip;</td><td>&hellip;</td><td>&hellip;</td><td>&hellip;</td><td>&hellip;</td><td>&hellip;</td></tr><tr><td>&quot;Mimi Hunter&quot;</td><td>&quot;VP, Corporate Secretary &amp; Corp…</td><td>null</td><td>&quot;Aaron Cain&quot;</td><td>5</td><td>&quot;nike&quot;</td><td>4</td><td>false</td></tr><tr><td>&quot;Ananda Shenoy&quot;</td><td>&quot;Vice President Of Technology&quot;</td><td>&quot;https://cdn.theorg.com/82257ed…</td><td>&quot;Dr. Muge Erdirik Dogan&quot;</td><td>7</td><td>&quot;nike&quot;</td><td>6</td><td>false</td></tr><tr><td>&quot;Seungin Han&quot;</td><td>&quot;Senior Product Engineer&quot;</td><td>null</td><td>&quot;Jingzi Tan&quot;</td><td>6</td><td>&quot;nike&quot;</td><td>7</td><td>false</td></tr><tr><td>&quot;Attilio D&#x27;Onofrio&quot;</td><td>&quot;Senior Devops Engineer&quot;</td><td>&quot;https://cdn.theorg.com/468fda9…</td><td>&quot;Jingzi Tan&quot;</td><td>6</td><td>&quot;nike&quot;</td><td>7</td><td>false</td></tr><tr><td>&quot;Cesar Garcia&quot;</td><td>&quot;VP &amp; GM, Men&#x27;s, APLA&quot;</td><td>&quot;https://cdn.theorg.com/571318e…</td><td>&quot;Aaron Cain&quot;</td><td>5</td><td>&quot;nike&quot;</td><td>4</td><td>false</td></tr></tbody></table></div>"
      ],
      "text/plain": [
       "shape: (23, 8)\n",
       "┌─────────────┬─────────────┬─────────────┬────────────┬────────────┬─────────┬────────────┬───────┐\n",
       "│ name        ┆ title       ┆ image_src   ┆ reports_to ┆ chart_stat ┆ company ┆ chart_stat ┆ diff  │\n",
       "│ ---         ┆ ---         ┆ ---         ┆ ---        ┆ us         ┆ ---     ┆ us_2       ┆ ---   │\n",
       "│ str         ┆ str         ┆ str         ┆ str        ┆ ---        ┆ str     ┆ ---        ┆ bool  │\n",
       "│             ┆             ┆             ┆            ┆ i64        ┆         ┆ i64        ┆       │\n",
       "╞═════════════╪═════════════╪═════════════╪════════════╪════════════╪═════════╪════════════╪═══════╡\n",
       "│ Frank 🦄    ┆ Senior      ┆ https://cdn ┆ Jingzi Tan ┆ 6          ┆ nike    ┆ 7          ┆ false │\n",
       "│ Huffener    ┆ Engineer    ┆ .theorg.com ┆            ┆            ┆         ┆            ┆       │\n",
       "│             ┆             ┆ /318eefe…   ┆            ┆            ┆         ┆            ┆       │\n",
       "│ Prithvi     ┆ Sr.         ┆ null        ┆ Aaron Cain ┆ 5          ┆ nike    ┆ 4          ┆ false │\n",
       "│ Narina      ┆ Principal   ┆             ┆            ┆            ┆         ┆            ┆       │\n",
       "│             ┆ Product     ┆             ┆            ┆            ┆         ┆            ┆       │\n",
       "│             ┆ Manager     ┆             ┆            ┆            ┆         ┆            ┆       │\n",
       "│ Monika      ┆ Senior      ┆ https://cdn ┆ Gopi       ┆ 6          ┆ nike    ┆ 7          ┆ false │\n",
       "│ Folske      ┆ Materials   ┆ .theorg.com ┆ Parasurama ┆            ┆         ┆            ┆       │\n",
       "│             ┆ Developer   ┆ /ac55bd8…   ┆            ┆            ┆         ┆            ┆       │\n",
       "│ Anna        ┆ VP Global   ┆ https://cdn ┆ Dr. Muge   ┆ 7          ┆ nike    ┆ 6          ┆ false │\n",
       "│ Schoborg    ┆ Nike Air    ┆ .theorg.com ┆ Erdirik    ┆            ┆         ┆            ┆       │\n",
       "│             ┆ Manufacturi ┆ /9a5e99d…   ┆ Dogan      ┆            ┆         ┆            ┆       │\n",
       "│             ┆ …           ┆             ┆            ┆            ┆         ┆            ┆       │\n",
       "│ Elliot Hill ┆ \"President  ┆ https://cdn ┆ null       ┆ 1          ┆ nike    ┆ 2          ┆ false │\n",
       "│             ┆ & CEO\"      ┆ .theorg.com ┆            ┆            ┆         ┆            ┆       │\n",
       "│             ┆             ┆ /127901e…   ┆            ┆            ┆         ┆            ┆       │\n",
       "│ …           ┆ …           ┆ …           ┆ …          ┆ …          ┆ …       ┆ …          ┆ …     │\n",
       "│ Mimi Hunter ┆ VP,         ┆ null        ┆ Aaron Cain ┆ 5          ┆ nike    ┆ 4          ┆ false │\n",
       "│             ┆ Corporate   ┆             ┆            ┆            ┆         ┆            ┆       │\n",
       "│             ┆ Secretary & ┆             ┆            ┆            ┆         ┆            ┆       │\n",
       "│             ┆ Corp…       ┆             ┆            ┆            ┆         ┆            ┆       │\n",
       "│ Ananda      ┆ Vice        ┆ https://cdn ┆ Dr. Muge   ┆ 7          ┆ nike    ┆ 6          ┆ false │\n",
       "│ Shenoy      ┆ President   ┆ .theorg.com ┆ Erdirik    ┆            ┆         ┆            ┆       │\n",
       "│             ┆ Of          ┆ /82257ed…   ┆ Dogan      ┆            ┆         ┆            ┆       │\n",
       "│             ┆ Technology  ┆             ┆            ┆            ┆         ┆            ┆       │\n",
       "│ Seungin Han ┆ Senior      ┆ null        ┆ Jingzi Tan ┆ 6          ┆ nike    ┆ 7          ┆ false │\n",
       "│             ┆ Product     ┆             ┆            ┆            ┆         ┆            ┆       │\n",
       "│             ┆ Engineer    ┆             ┆            ┆            ┆         ┆            ┆       │\n",
       "│ Attilio     ┆ Senior      ┆ https://cdn ┆ Jingzi Tan ┆ 6          ┆ nike    ┆ 7          ┆ false │\n",
       "│ D'Onofrio   ┆ Devops      ┆ .theorg.com ┆            ┆            ┆         ┆            ┆       │\n",
       "│             ┆ Engineer    ┆ /468fda9…   ┆            ┆            ┆         ┆            ┆       │\n",
       "│ Cesar       ┆ VP & GM,    ┆ https://cdn ┆ Aaron Cain ┆ 5          ┆ nike    ┆ 4          ┆ false │\n",
       "│ Garcia      ┆ Men's, APLA ┆ .theorg.com ┆            ┆            ┆         ┆            ┆       │\n",
       "│             ┆             ┆ /571318e…   ┆            ┆            ┆         ┆            ┆       │\n",
       "└─────────────┴─────────────┴─────────────┴────────────┴────────────┴─────────┴────────────┴───────┘"
      ]
     },
     "execution_count": 17,
     "metadata": {},
     "output_type": "execute_result"
    }
   ],
   "source": [
    "df.with_columns(\n",
    "    pl.col(\"name\")\n",
    "    .map_elements(get_hierarchy_level, return_dtype=pl.Int64)\n",
    "    .alias(\"chart_status_2\")\n",
    ").with_columns(\n",
    "    (pl.col(\"chart_status\") == pl.col(\"chart_status_2\")).alias(\"diff\")\n",
    ").filter(\n",
    "    pl.col(\"diff\") == False\n",
    ")"
   ]
  },
  {
   "cell_type": "code",
   "execution_count": 18,
   "metadata": {},
   "outputs": [],
   "source": [
    "def concat_datasets(company_list: list[str]):\n",
    "    dfs = [clean_data(company).pipe(transform_data) for company in company_list]\n",
    "    return pl.concat(dfs)"
   ]
  },
  {
   "cell_type": "code",
   "execution_count": 19,
   "metadata": {},
   "outputs": [
    {
     "name": "stdout",
     "output_type": "stream",
     "text": [
      "== APPLE ==\n",
      "Duplicates Removed: 8\n",
      "Total Records: 756\n",
      "\n",
      "== DISNEY ==\n",
      "Duplicates Removed: 27\n",
      "Total Records: 768\n",
      "\n",
      "== GOOGLE ==\n",
      "Duplicates Removed: 705\n",
      "Total Records: 1647\n",
      "\n",
      "== MICROSOFT ==\n",
      "Duplicates Removed: 21\n",
      "Total Records: 408\n",
      "\n",
      "== NIKE ==\n",
      "Duplicates Removed: 51\n",
      "Total Records: 573\n",
      "\n",
      "== AMAZON ==\n",
      "Duplicates Removed: 0\n",
      "Total Records: 1567\n",
      "\n",
      "== META ==\n",
      "Duplicates Removed: 1\n",
      "Total Records: 970\n",
      "\n",
      "== NETFLIX ==\n",
      "Duplicates Removed: 15\n",
      "Total Records: 623\n",
      "\n",
      "== TESLA ==\n",
      "Duplicates Removed: 0\n",
      "Total Records: 306\n",
      "\n",
      "== STRIPE ==\n",
      "Duplicates Removed: 0\n",
      "Total Records: 619\n",
      "\n"
     ]
    },
    {
     "data": {
      "text/html": [
       "<div><style>\n",
       ".dataframe > thead > tr,\n",
       ".dataframe > tbody > tr {\n",
       "  text-align: right;\n",
       "  white-space: pre-wrap;\n",
       "}\n",
       "</style>\n",
       "<small>shape: (9, 7)</small><table border=\"1\" class=\"dataframe\"><thead><tr><th>statistic</th><th>company</th><th>name</th><th>title</th><th>reports_to</th><th>org_status</th><th>image_src</th></tr><tr><td>str</td><td>str</td><td>str</td><td>str</td><td>str</td><td>f64</td><td>str</td></tr></thead><tbody><tr><td>&quot;count&quot;</td><td>&quot;8237&quot;</td><td>&quot;8236&quot;</td><td>&quot;8236&quot;</td><td>&quot;8233&quot;</td><td>8236.0</td><td>&quot;6673&quot;</td></tr><tr><td>&quot;null_count&quot;</td><td>&quot;0&quot;</td><td>&quot;1&quot;</td><td>&quot;1&quot;</td><td>&quot;4&quot;</td><td>1.0</td><td>&quot;1564&quot;</td></tr><tr><td>&quot;mean&quot;</td><td>null</td><td>null</td><td>null</td><td>null</td><td>4.732516</td><td>null</td></tr><tr><td>&quot;std&quot;</td><td>null</td><td>null</td><td>null</td><td>null</td><td>1.206123</td><td>null</td></tr><tr><td>&quot;min&quot;</td><td>&quot;amazon&quot;</td><td>&quot;A Charles Thomas&quot;</td><td>&quot;(cmo) Head Of Marketing Latam …</td><td>&quot;1&quot;</td><td>1.0</td><td>&quot; https://cdn.theorg.com/751821…</td></tr><tr><td>&quot;25%&quot;</td><td>null</td><td>null</td><td>null</td><td>null</td><td>4.0</td><td>null</td></tr><tr><td>&quot;50%&quot;</td><td>null</td><td>null</td><td>null</td><td>null</td><td>5.0</td><td>null</td></tr><tr><td>&quot;75%&quot;</td><td>null</td><td>null</td><td>null</td><td>null</td><td>5.0</td><td>null</td></tr><tr><td>&quot;max&quot;</td><td>&quot;tesla&quot;</td><td>&quot;Álvaro Maruenda Rodrigo&quot;</td><td>&quot;sdr&quot;</td><td>&quot;Zak Burka&quot;</td><td>10.0</td><td>&quot;https://theorg.com/org/amazon/…</td></tr></tbody></table></div>"
      ],
      "text/plain": [
       "shape: (9, 7)\n",
       "┌────────────┬─────────┬───────────┬──────────────────┬────────────┬────────────┬──────────────────┐\n",
       "│ statistic  ┆ company ┆ name      ┆ title            ┆ reports_to ┆ org_status ┆ image_src        │\n",
       "│ ---        ┆ ---     ┆ ---       ┆ ---              ┆ ---        ┆ ---        ┆ ---              │\n",
       "│ str        ┆ str     ┆ str       ┆ str              ┆ str        ┆ f64        ┆ str              │\n",
       "╞════════════╪═════════╪═══════════╪══════════════════╪════════════╪════════════╪══════════════════╡\n",
       "│ count      ┆ 8237    ┆ 8236      ┆ 8236             ┆ 8233       ┆ 8236.0     ┆ 6673             │\n",
       "│ null_count ┆ 0       ┆ 1         ┆ 1                ┆ 4          ┆ 1.0        ┆ 1564             │\n",
       "│ mean       ┆ null    ┆ null      ┆ null             ┆ null       ┆ 4.732516   ┆ null             │\n",
       "│ std        ┆ null    ┆ null      ┆ null             ┆ null       ┆ 1.206123   ┆ null             │\n",
       "│ min        ┆ amazon  ┆ A Charles ┆ (cmo) Head Of    ┆ 1          ┆ 1.0        ┆ https://cdn.theo │\n",
       "│            ┆         ┆ Thomas    ┆ Marketing Latam  ┆            ┆            ┆ rg.com/751821…   │\n",
       "│            ┆         ┆           ┆ …                ┆            ┆            ┆                  │\n",
       "│ 25%        ┆ null    ┆ null      ┆ null             ┆ null       ┆ 4.0        ┆ null             │\n",
       "│ 50%        ┆ null    ┆ null      ┆ null             ┆ null       ┆ 5.0        ┆ null             │\n",
       "│ 75%        ┆ null    ┆ null      ┆ null             ┆ null       ┆ 5.0        ┆ null             │\n",
       "│ max        ┆ tesla   ┆ Álvaro    ┆ sdr              ┆ Zak Burka  ┆ 10.0       ┆ https://theorg.c │\n",
       "│            ┆         ┆ Maruenda  ┆                  ┆            ┆            ┆ om/org/amazon/…  │\n",
       "│            ┆         ┆ Rodrigo   ┆                  ┆            ┆            ┆                  │\n",
       "└────────────┴─────────┴───────────┴──────────────────┴────────────┴────────────┴──────────────────┘"
      ]
     },
     "execution_count": 19,
     "metadata": {},
     "output_type": "execute_result"
    }
   ],
   "source": [
    "df = concat_datasets(\n",
    "    [\n",
    "        \"apple\",\n",
    "        \"disney\",\n",
    "        \"google\",\n",
    "        \"microsoft\",\n",
    "        \"nike\",\n",
    "        \"amazon\",\n",
    "        \"meta\",\n",
    "        \"netflix\",\n",
    "        \"tesla\",\n",
    "        \"stripe\",\n",
    "    ]\n",
    ")\n",
    "df.describe()"
   ]
  },
  {
   "cell_type": "code",
   "execution_count": 20,
   "metadata": {},
   "outputs": [
    {
     "data": {
      "text/html": [
       "<div><style>\n",
       ".dataframe > thead > tr,\n",
       ".dataframe > tbody > tr {\n",
       "  text-align: right;\n",
       "  white-space: pre-wrap;\n",
       "}\n",
       "</style>\n",
       "<small>shape: (5, 6)</small><table border=\"1\" class=\"dataframe\"><thead><tr><th>company</th><th>name</th><th>title</th><th>reports_to</th><th>org_status</th><th>image_src</th></tr><tr><td>str</td><td>str</td><td>str</td><td>str</td><td>i64</td><td>str</td></tr></thead><tbody><tr><td>&quot;apple&quot;</td><td>&quot;Koussalya Balasubramanian&quot;</td><td>&quot;Senior Engineering Manager, Ip…</td><td>&quot;Madiha Chan&quot;</td><td>5</td><td>&quot;https://cdn.theorg.com/65f0bfe…</td></tr><tr><td>&quot;apple&quot;</td><td>&quot;Saul Jackman&quot;</td><td>&quot;Senior Data Science Manager&quot;</td><td>&quot;Daphne Luong&quot;</td><td>4</td><td>null</td></tr><tr><td>&quot;apple&quot;</td><td>&quot;Maggie Wang&quot;</td><td>&quot;Global Supply Manager&quot;</td><td>&quot;Christine Defilippo&quot;</td><td>4</td><td>&quot;https://cdn.theorg.com/f2e1d3b…</td></tr><tr><td>&quot;apple&quot;</td><td>&quot;Tiewen Han&quot;</td><td>&quot;Hardware Engineering Manager&quot;</td><td>&quot;Paul Meade&quot;</td><td>4</td><td>null</td></tr><tr><td>&quot;apple&quot;</td><td>&quot;Ben Borders&quot;</td><td>&quot;Director, Revenue Accounting&quot;</td><td>&quot;Donal Conroy&quot;</td><td>4</td><td>null</td></tr></tbody></table></div>"
      ],
      "text/plain": [
       "shape: (5, 6)\n",
       "┌─────────┬────────────────────┬───────────────────┬──────────────┬────────────┬───────────────────┐\n",
       "│ company ┆ name               ┆ title             ┆ reports_to   ┆ org_status ┆ image_src         │\n",
       "│ ---     ┆ ---                ┆ ---               ┆ ---          ┆ ---        ┆ ---               │\n",
       "│ str     ┆ str                ┆ str               ┆ str          ┆ i64        ┆ str               │\n",
       "╞═════════╪════════════════════╪═══════════════════╪══════════════╪════════════╪═══════════════════╡\n",
       "│ apple   ┆ Koussalya          ┆ Senior            ┆ Madiha Chan  ┆ 5          ┆ https://cdn.theor │\n",
       "│         ┆ Balasubramanian    ┆ Engineering       ┆              ┆            ┆ g.com/65f0bfe…    │\n",
       "│         ┆                    ┆ Manager, Ip…      ┆              ┆            ┆                   │\n",
       "│ apple   ┆ Saul Jackman       ┆ Senior Data       ┆ Daphne Luong ┆ 4          ┆ null              │\n",
       "│         ┆                    ┆ Science Manager   ┆              ┆            ┆                   │\n",
       "│ apple   ┆ Maggie Wang        ┆ Global Supply     ┆ Christine    ┆ 4          ┆ https://cdn.theor │\n",
       "│         ┆                    ┆ Manager           ┆ Defilippo    ┆            ┆ g.com/f2e1d3b…    │\n",
       "│ apple   ┆ Tiewen Han         ┆ Hardware          ┆ Paul Meade   ┆ 4          ┆ null              │\n",
       "│         ┆                    ┆ Engineering       ┆              ┆            ┆                   │\n",
       "│         ┆                    ┆ Manager           ┆              ┆            ┆                   │\n",
       "│ apple   ┆ Ben Borders        ┆ Director, Revenue ┆ Donal Conroy ┆ 4          ┆ null              │\n",
       "│         ┆                    ┆ Accounting        ┆              ┆            ┆                   │\n",
       "└─────────┴────────────────────┴───────────────────┴──────────────┴────────────┴───────────────────┘"
      ]
     },
     "execution_count": 20,
     "metadata": {},
     "output_type": "execute_result"
    }
   ],
   "source": [
    "df.head()"
   ]
  },
  {
   "cell_type": "code",
   "execution_count": 22,
   "metadata": {},
   "outputs": [],
   "source": [
    "df.unique(\n",
    "    subset=[\"company\", \"name\", \"title\", \"org_status\", \"image_src\", \"reports_to\"]\n",
    ").write_csv(\"./companies/org_chart_data.csv\")"
   ]
  }
 ],
 "metadata": {
  "kernelspec": {
   "display_name": "work-venv",
   "language": "python",
   "name": "python3"
  },
  "language_info": {
   "codemirror_mode": {
    "name": "ipython",
    "version": 3
   },
   "file_extension": ".py",
   "mimetype": "text/x-python",
   "name": "python",
   "nbconvert_exporter": "python",
   "pygments_lexer": "ipython3",
   "version": "3.12.8"
  }
 },
 "nbformat": 4,
 "nbformat_minor": 2
}
